{
 "cells": [
  {
   "cell_type": "markdown",
   "metadata": {},
   "source": [
    "## Q - 1"
   ]
  },
  {
   "cell_type": "code",
   "execution_count": 1,
   "metadata": {},
   "outputs": [],
   "source": [
    "import numpy as np"
   ]
  },
  {
   "cell_type": "code",
   "execution_count": 2,
   "metadata": {},
   "outputs": [
    {
     "name": "stdout",
     "output_type": "stream",
     "text": [
      "[ 2  5  8 11 14 17 20 23 26 29 32 35 38 41 44 47]\n"
     ]
    }
   ],
   "source": [
    "arr = np.arange(2,50,3)\n",
    "print(arr)"
   ]
  },
  {
   "cell_type": "code",
   "execution_count": null,
   "metadata": {},
   "outputs": [],
   "source": []
  },
  {
   "cell_type": "markdown",
   "metadata": {},
   "source": [
    "## Q - 2"
   ]
  },
  {
   "cell_type": "code",
   "execution_count": 4,
   "metadata": {},
   "outputs": [
    {
     "name": "stdout",
     "output_type": "stream",
     "text": [
      "5\n",
      "6\n",
      "8\n",
      "3\n",
      "9\n",
      "5\n",
      "7\n",
      "6\n",
      "2\n",
      "4\n",
      "[5 6 8 3 9 5 7 6 2 4]\n",
      "[ 2  5  8 11 14 17 20 23 26 29 32 35 38 41 44 47]\n"
     ]
    }
   ],
   "source": [
    "list1 = []\n",
    "list2 = []\n",
    "\n",
    "for i in range(5):\n",
    "  x = int(input(\"\"))\n",
    "  list1.append(x)\n",
    "\n",
    "for i in range(5):\n",
    "  x = int(input(\"\"))\n",
    "  list2.append(x)\n",
    "\n",
    "arr1 = np.array(list1)\n",
    "arr2 = np.array(list2)\n",
    "\n",
    "con = np.concatenate((arr1, arr2))\n",
    "print(con)\n",
    "\n",
    "sortArr = np.sort(arr)\n",
    "print(sortArr)"
   ]
  },
  {
   "cell_type": "code",
   "execution_count": null,
   "metadata": {},
   "outputs": [],
   "source": []
  },
  {
   "cell_type": "markdown",
   "metadata": {},
   "source": [
    "## Q - 3"
   ]
  },
  {
   "cell_type": "code",
   "execution_count": 5,
   "metadata": {},
   "outputs": [
    {
     "name": "stdout",
     "output_type": "stream",
     "text": [
      "Dimensions of array :  2\n",
      "Size of array :  9\n"
     ]
    }
   ],
   "source": [
    "arr = np.array([[1,2,3],\n",
    "                [4,5,6],\n",
    "                [7,8,9]])\n",
    "print(\"Dimensions of array : \", arr.ndim)\n",
    "print(\"Size of array : \", arr.size)"
   ]
  },
  {
   "cell_type": "code",
   "execution_count": null,
   "metadata": {},
   "outputs": [],
   "source": []
  },
  {
   "cell_type": "markdown",
   "metadata": {},
   "source": [
    "## Q - 4"
   ]
  },
  {
   "cell_type": "code",
   "execution_count": 6,
   "metadata": {},
   "outputs": [
    {
     "name": "stdout",
     "output_type": "stream",
     "text": [
      "Shape of 1d array : (3, 3)\n",
      "Shape of 2d Array in row major : (1, 3, 3)\n",
      "Shape of 2d Array in column major : (3, 1, 3)\n"
     ]
    }
   ],
   "source": [
    "arr =  np.array([[1, 2, 3],\n",
    "                [4, 5, 6],\n",
    "                [7, 8, 9]])\n",
    "print(\"Shape of 1d array :\",arr.shape)\n",
    "row = np.expand_dims(arr, axis=0)\n",
    "print(\"Shape of 2d Array in row major :\",row.shape)\n",
    "col = np.expand_dims(arr, axis=1)\n",
    "print(\"Shape of 2d Array in column major :\",col.shape)"
   ]
  },
  {
   "cell_type": "code",
   "execution_count": null,
   "metadata": {},
   "outputs": [],
   "source": []
  },
  {
   "cell_type": "markdown",
   "metadata": {},
   "source": [
    "## Q - 5"
   ]
  },
  {
   "cell_type": "code",
   "execution_count": 7,
   "metadata": {},
   "outputs": [
    {
     "name": "stdout",
     "output_type": "stream",
     "text": [
      "Vertical stacking: [[1 2]\n",
      " [4 3]\n",
      " [5 6]\n",
      " [8 7]]\n",
      "Horizontal stacking: [[1 2 5 6]\n",
      " [4 3 8 7]]\n"
     ]
    }
   ],
   "source": [
    "arr1 = np.array([[1, 2], \n",
    "              [4, 3]]) \n",
    "  \n",
    "arr2 = np.array([[5, 6], \n",
    "              [8, 7]]) \n",
    "\n",
    "print(\"Vertical stacking:\", np.vstack((arr1, arr2)))\n",
    "print(\"Horizontal stacking:\", np.hstack((arr1, arr2)))"
   ]
  },
  {
   "cell_type": "code",
   "execution_count": null,
   "metadata": {},
   "outputs": [],
   "source": []
  },
  {
   "cell_type": "markdown",
   "metadata": {},
   "source": [
    "## Q -6"
   ]
  },
  {
   "cell_type": "code",
   "execution_count": 9,
   "metadata": {},
   "outputs": [
    {
     "name": "stdout",
     "output_type": "stream",
     "text": [
      "[[1 2]\n",
      " [2 3]\n",
      " [3 2]\n",
      " [4 2]\n",
      " [5 2]\n",
      " [6 2]\n",
      " [8 1]]\n"
     ]
    }
   ],
   "source": [
    "a = np.array([1,2,3,5,6,8,2,2,4,5,1,3,6,4])\n",
    "unique, counts = np.unique(a,return_counts=True)\n",
    "print(np.asarray((unique, counts)).T)"
   ]
  }
 ],
 "metadata": {
  "kernelspec": {
   "display_name": "Python 3",
   "language": "python",
   "name": "python3"
  },
  "language_info": {
   "codemirror_mode": {
    "name": "ipython",
    "version": 3
   },
   "file_extension": ".py",
   "mimetype": "text/x-python",
   "name": "python",
   "nbconvert_exporter": "python",
   "pygments_lexer": "ipython3",
   "version": "3.8.6"
  }
 },
 "nbformat": 4,
 "nbformat_minor": 2
}
